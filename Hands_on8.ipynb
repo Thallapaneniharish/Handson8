{
 "cells": [
  {
   "cell_type": "code",
   "execution_count": 1,
   "id": "b84581db",
   "metadata": {},
   "outputs": [
    {
     "name": "stdout",
     "output_type": "stream",
     "text": [
      "The 4th order statistic is: 5\n"
     ]
    }
   ],
   "source": [
    "def partition(arr, start, end):\n",
    "    pivot = arr[end]\n",
    "    left = start - 1\n",
    "\n",
    "    for right in range(start, end):\n",
    "        if arr[right] <= pivot:\n",
    "            left += 1\n",
    "            arr[left], arr[right] = arr[right], arr[left]\n",
    "\n",
    "    arr[left + 1], arr[end] = arr[end], arr[left + 1]\n",
    "    return left + 1\n",
    "\n",
    "\n",
    "def quickselect(arr, start, end, k):\n",
    "    if start <= end:\n",
    "        pivot_index = partition(arr, start, end)\n",
    "        if pivot_index == k:\n",
    "            return arr[pivot_index]\n",
    "        elif pivot_index < k:\n",
    "            return quickselect(arr, pivot_index + 1, end, k)\n",
    "        else:\n",
    "            return quickselect(arr, start, pivot_index - 1, k)\n",
    "\n",
    "\n",
    "def find_ith_order_statistic(arr, i):\n",
    "    return quickselect(arr, 0, len(arr) - 1, i)\n",
    "\n",
    "\n",
    "arr = [3, 1, 4, 7, 2, 5, 9, 6, 8]\n",
    "ith = 4\n",
    "print(f\"The {ith}th order statistic is: {find_ith_order_statistic(arr, ith)}\")\n",
    "\n"
   ]
  },
  {
   "cell_type": "code",
   "execution_count": 2,
   "id": "ffa247b0",
   "metadata": {},
   "outputs": [
    {
     "name": "stdout",
     "output_type": "stream",
     "text": [
      "Dequeued item: 10\n",
      "Is the queue empty? False\n",
      "Size of the queue: 2\n"
     ]
    }
   ],
   "source": [
    "class Queue:\n",
    "    def __init__(self, capacity=10):\n",
    "        self.capacity = capacity\n",
    "        self.items = [None] * self.capacity\n",
    "        self.front = 0\n",
    "        self.rear = -1\n",
    "        self.size = 0\n",
    "\n",
    "    def enqueue(self, item):\n",
    "        if self.size == self.capacity:\n",
    "            self._resize()\n",
    "        self.rear = (self.rear + 1) % self.capacity\n",
    "        self.items[self.rear] = item\n",
    "        self.size += 1\n",
    "\n",
    "    def dequeue(self):\n",
    "        if not self.is_empty():\n",
    "            removed_item = self.items[self.front]\n",
    "            self.items[self.front] = None\n",
    "            self.front = (self.front + 1) % self.capacity\n",
    "            self.size -= 1\n",
    "            return removed_item\n",
    "        else:\n",
    "            raise IndexError(\"Queue is empty\")\n",
    "\n",
    "    def is_empty(self):\n",
    "        return self.size == 0\n",
    "\n",
    "    def get_size(self):  # Renamed size to get_size\n",
    "        return self.size\n",
    "\n",
    "    def _resize(self):\n",
    "        new_capacity = 2 * self.capacity\n",
    "        new_items = [None] * new_capacity\n",
    "        for i in range(self.size):\n",
    "            new_items[i] = self.items[(self.front + i) % self.capacity]\n",
    "        self.items = new_items\n",
    "        self.capacity = new_capacity\n",
    "        self.front = 0\n",
    "        self.rear = self.size - 1\n",
    "\n",
    "# Example usage:\n",
    "queue = Queue()\n",
    "\n",
    "queue.enqueue(10)\n",
    "queue.enqueue(20)\n",
    "queue.enqueue(30)\n",
    "\n",
    "print(\"Dequeued item:\", queue.dequeue())\n",
    "print(\"Is the queue empty?\", queue.is_empty())\n",
    "print(\"Size of the queue:\", queue.get_size())  # Corrected to get_size"
   ]
  },
  {
   "cell_type": "code",
   "execution_count": 3,
   "id": "0a984dd1",
   "metadata": {},
   "outputs": [
    {
     "name": "stdout",
     "output_type": "stream",
     "text": [
      "Popped item: 15\n",
      "Is the stack empty? False\n",
      "Size of the stack: 2\n"
     ]
    }
   ],
   "source": [
    "class Stack:\n",
    "    def __init__(self):\n",
    "        self.items = []\n",
    "\n",
    "    def push(self, item):\n",
    "        self.items.append(item)\n",
    "\n",
    "    def pop(self):\n",
    "        if not self.is_empty():\n",
    "            return self.items.pop()\n",
    "        else:\n",
    "            raise IndexError(\"Stack is empty\")\n",
    "\n",
    "    def is_empty(self):\n",
    "        return len(self.items) == 0\n",
    "\n",
    "    def get_size(self):  # Renamed size to get_size\n",
    "        return len(self.items)\n",
    "\n",
    "# Create a new stack\n",
    "stack = Stack()\n",
    "\n",
    "# Push some elements\n",
    "stack.push(5)\n",
    "stack.push(10)\n",
    "stack.push(15)\n",
    "\n",
    "# Pop an element\n",
    "print(\"Popped item:\", stack.pop())\n",
    "\n",
    "# Check if the stack is empty\n",
    "print(\"Is the stack empty?\", stack.is_empty())\n",
    "\n",
    "# Get the size of the stack\n",
    "print(\"Size of the stack:\", stack.get_size())  # Corrected to get_size"
   ]
  }
 ],
 "metadata": {
  "kernelspec": {
   "display_name": "Python 3 (ipykernel)",
   "language": "python",
   "name": "python3"
  },
  "language_info": {
   "codemirror_mode": {
    "name": "ipython",
    "version": 3
   },
   "file_extension": ".py",
   "mimetype": "text/x-python",
   "name": "python",
   "nbconvert_exporter": "python",
   "pygments_lexer": "ipython3",
   "version": "3.11.3"
  }
 },
 "nbformat": 4,
 "nbformat_minor": 5
}
